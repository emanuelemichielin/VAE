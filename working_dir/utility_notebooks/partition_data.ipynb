{
 "cells": [
  {
   "cell_type": "markdown",
   "metadata": {},
   "source": [
    "### Notebook to partition the data into training/validation/testing"
   ]
  },
  {
   "cell_type": "code",
   "execution_count": 5,
   "metadata": {},
   "outputs": [],
   "source": [
    "import vae\n",
    "from glob import glob\n",
    "import pandas as pd\n",
    "import pickle as pkl"
   ]
  },
  {
   "cell_type": "code",
   "execution_count": 6,
   "metadata": {},
   "outputs": [],
   "source": [
    "base_path = '/gpfs/slac/staas/fs1/supercdms/tf/slac/Run44/Run44_v2/'\n",
    "rq_path = '/gpfs/slac/staas/fs1/supercdms/tf/slac/Run44/Run44_processed_DF.pkl'\n",
    "map_path = '/gpfs/slac/staas/fs1/supercdms/tf/slac/Run44/file_mapping.h5'\n",
    "\n",
    "traces_path = sorted(glob(base_path+'traces/*'))\n",
    "meta_path = sorted(glob(base_path+'metadata/*'))\n",
    "labels_path = sorted(glob(base_path+'labels/*'))\n",
    "\n",
    "ev_mapping = pd.read_hdf(map_path,'map')"
   ]
  },
  {
   "cell_type": "code",
   "execution_count": 7,
   "metadata": {},
   "outputs": [],
   "source": [
    "np.random.seed(42)\n",
    "rand_ints = np.random.choice(len(ev_mapping), len(ev_mapping), replace=False)\n",
    "\n",
    "int(0.2*len(ev_mapping))\n",
    "int(0.2*len(ev_mapping))*2 - int(0.2*len(ev_mapping))\n",
    "\n",
    "partition = {}\n",
    "partition['validation'] = ev_mapping.eventnumber.values[:int(0.2*len(ev_mapping))] \n",
    "partition['test'] = ev_mapping.eventnumber.values[int(0.2*len(ev_mapping)):2*int(0.2*len(ev_mapping))] \n",
    "partition['train'] = ev_mapping.eventnumber.values[2*int(0.2*len(ev_mapping)):] \n",
    "partition['labels'] = ev_mapping.eventnumber.values[rand_ints]"
   ]
  },
  {
   "cell_type": "code",
   "execution_count": 8,
   "metadata": {},
   "outputs": [],
   "source": [
    "with open('/gpfs/slac/staas/fs1/supercdms/tf/slac/Run44/data_partition.pkl','wb') as file:\n",
    "    pkl.dump(partition, file)"
   ]
  },
  {
   "cell_type": "code",
   "execution_count": null,
   "metadata": {},
   "outputs": [],
   "source": []
  }
 ],
 "metadata": {
  "kernelspec": {
   "display_name": "Python 3",
   "language": "python",
   "name": "python3"
  },
  "language_info": {
   "codemirror_mode": {
    "name": "ipython",
    "version": 3
   },
   "file_extension": ".py",
   "mimetype": "text/x-python",
   "name": "python",
   "nbconvert_exporter": "python",
   "pygments_lexer": "ipython3",
   "version": "3.6.3"
  }
 },
 "nbformat": 4,
 "nbformat_minor": 2
}
