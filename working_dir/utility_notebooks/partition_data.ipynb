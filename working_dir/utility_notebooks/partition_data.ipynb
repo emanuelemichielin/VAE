{
 "cells": [
  {
   "cell_type": "code",
   "execution_count": 1,
   "metadata": {},
   "outputs": [],
   "source": [
    "import qetpy as qp\n",
    "import rqpy as rp\n",
    "import numpy as np\n",
    "import pandas as pd\n",
    "import vae\n",
    "from glob import glob\n",
    "import pickle as pkl\n",
    "import matplotlib.pyplot as plt\n",
    "from matplotlib import rcParams\n",
    "\n",
    "from cutbucket import CutUtils"
   ]
  },
  {
   "cell_type": "markdown",
   "metadata": {},
   "source": [
    "Define Paths"
   ]
  },
  {
   "cell_type": "code",
   "execution_count": 2,
   "metadata": {},
   "outputs": [],
   "source": [
    "base_path = '/gpfs/slac/staas/fs1/supercdms/tf/slac/Run44/Run44_v2/'\n",
    "rq_path = '/gpfs/slac/staas/fs1/supercdms/tf/slac/Run44/Run44_processed_DF.pkl'\n",
    "map_path = '/gpfs/slac/staas/fs1/supercdms/tf/slac/Run44/file_mapping.h5'\n",
    "partition_path = '/gpfs/slac/staas/fs1/supercdms/tf/slac/Run44/partitions/'\n",
    "\n",
    "traces_path = sorted(glob(base_path+'traces/*'))\n",
    "meta_path = sorted(glob(base_path+'metadata/*'))\n",
    "labels_path = sorted(glob(base_path+'labels/*'))\n",
    "\n",
    "ev_mapping = pd.read_hdf(map_path,'map')\n",
    "with open(rq_path, 'rb') as file:\n",
    "    rq = pkl.load(file)"
   ]
  },
  {
   "cell_type": "code",
   "execution_count": 3,
   "metadata": {},
   "outputs": [
    {
     "data": {
      "text/plain": [
       "['ctrigger',\n",
       " 'crandoms_ir',\n",
       " 'crandoms_br',\n",
       " 'cevent',\n",
       " 'cchi2_lowfreq',\n",
       " 'cbase_pre',\n",
       " 'cgoodevents',\n",
       " 'cgoodrandoms',\n",
       " 'cpileup',\n",
       " 'cgoodtriggers']"
      ]
     },
     "execution_count": 3,
     "metadata": {},
     "output_type": "execute_result"
    }
   ],
   "source": [
    "gitcuts = CutUtils('/home/calebf/notebooks/repositories/PD2_DM_Search_Cuts/', 'run44_0909_reprocess', lgcsync=False)\n",
    "gitcuts.listcuts()"
   ]
  },
  {
   "cell_type": "code",
   "execution_count": 4,
   "metadata": {},
   "outputs": [
    {
     "name": "stdout",
     "output_type": "stream",
     "text": [
      "The following cuts will be loaded into the namespace of cuts.py: ['ctrigger', 'crandoms_ir', 'crandoms_br', 'cevent', 'cchi2_lowfreq', 'cbase_pre', 'cgoodevents', 'cgoodrandoms', 'cpileup', 'cgoodtriggers'] \n",
      " make sure to run exec()             on the return of this function to import them into the local namespace\n"
     ]
    }
   ],
   "source": [
    "exec(gitcuts.updatecuts())"
   ]
  },
  {
   "cell_type": "code",
   "execution_count": 5,
   "metadata": {},
   "outputs": [],
   "source": [
    "p_rand = vae.partition_data(rq[crandoms_br|crandoms_ir].eventseriesnumber.values, \n",
    "                       savename=partition_path+'randoms', \n",
    "                       lgcsave=True)"
   ]
  },
  {
   "cell_type": "code",
   "execution_count": 6,
   "metadata": {},
   "outputs": [],
   "source": [
    "p_trig = vae.partition_data(rq[ctrigger].eventseriesnumber.values, \n",
    "                       savename=partition_path+'triggers', \n",
    "                       lgcsave=True)\n",
    "\n",
    "p_goodev = vae.partition_data(rq[cgoodevents].eventseriesnumber.values, \n",
    "                       savename=partition_path+'good_events', \n",
    "                       lgcsave=True)\n",
    "\n",
    "p_goodtrig = vae.partition_data(rq[cgoodtriggers].eventseriesnumber.values, \n",
    "                       savename=partition_path+'good_triggers', \n",
    "                       lgcsave=True)\n",
    "\n",
    "p_goodrand= vae.partition_data(rq[cgoodrandoms].eventseriesnumber.values, \n",
    "                       savename=partition_path+'good_randoms', \n",
    "                       lgcsave=True)"
   ]
  },
  {
   "cell_type": "code",
   "execution_count": 4,
   "metadata": {},
   "outputs": [],
   "source": [
    "p = vae.load_partition(partition_path, 'good_randoms')"
   ]
  },
  {
   "cell_type": "code",
   "execution_count": 4,
   "metadata": {},
   "outputs": [
    {
     "data": {
      "text/plain": [
       "{'validation': array([918090910476490021, 918090922113130269, 918090922113800164, ...,\n",
       "        918090922115910375, 918090922116570251, 918090910473180166]),\n",
       " 'test': array([918090910472860257,  91809091047930233, 918090910471280060, ...,\n",
       "        918090922115580377, 918090922116010190, 918090922115600084]),\n",
       " 'train': array([918090922115180386, 918090910471510118,  91809091047710012, ...,\n",
       "        918090910474070238, 918090910474530105, 918090910473770055])}"
      ]
     },
     "execution_count": 4,
     "metadata": {},
     "output_type": "execute_result"
    }
   ],
   "source": [
    "p"
   ]
  },
  {
   "cell_type": "code",
   "execution_count": null,
   "metadata": {},
   "outputs": [],
   "source": []
  }
 ],
 "metadata": {
  "kernelspec": {
   "display_name": "Python 3",
   "language": "python",
   "name": "python3"
  },
  "language_info": {
   "codemirror_mode": {
    "name": "ipython",
    "version": 3
   },
   "file_extension": ".py",
   "mimetype": "text/x-python",
   "name": "python",
   "nbconvert_exporter": "python",
   "pygments_lexer": "ipython3",
   "version": "3.6.3"
  }
 },
 "nbformat": 4,
 "nbformat_minor": 2
}
