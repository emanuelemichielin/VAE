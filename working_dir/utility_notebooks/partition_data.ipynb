{
 "cells": [
  {
   "cell_type": "markdown",
   "metadata": {},
   "source": [
    "### Notebook for Partitioning PD2 data "
   ]
  },
  {
   "cell_type": "code",
   "execution_count": 2,
   "metadata": {},
   "outputs": [],
   "source": [
    "import qetpy as qp\n",
    "import rqpy as rp\n",
    "import numpy as np\n",
    "import pandas as pd\n",
    "from glob import glob\n",
    "import pickle as pkl\n",
    "import matplotlib.pyplot as plt\n",
    "from matplotlib import rcParams\n",
    "\n",
    "from cutbucket import CutUtils\n",
    "\n",
    "import vae\n",
    "from vae import EVENT_FILE_MAP_PATH, LABEL_PATH, META_PATH, PARTITION_PATH, TRACE_PATH, RQ_DF_PATH"
   ]
  },
  {
   "cell_type": "markdown",
   "metadata": {},
   "source": [
    "Define Paths"
   ]
  },
  {
   "cell_type": "code",
   "execution_count": 3,
   "metadata": {},
   "outputs": [],
   "source": [
    "traces_path = sorted(glob(TRACE_PATH+'*'))\n",
    "meta_path = sorted(glob(META_PATH+'*'))\n",
    "labels_path = sorted(glob(LABEL_PATH+'*'))\n",
    "\n",
    "ev_mapping = pd.read_hdf(EVENT_FILE_MAP_PATH,'map')\n",
    "with open(RQ_DF_PATH, 'rb') as file:\n",
    "    rq = pkl.load(file)"
   ]
  },
  {
   "cell_type": "code",
   "execution_count": 4,
   "metadata": {},
   "outputs": [
    {
     "data": {
      "text/plain": [
       "['ctrigger',\n",
       " 'crandoms_ir',\n",
       " 'crandoms_br',\n",
       " 'cevent',\n",
       " 'cchi2_lowfreq',\n",
       " 'cbase_pre',\n",
       " 'cgoodevents',\n",
       " 'cgoodrandoms',\n",
       " 'cpileup',\n",
       " 'cgoodtriggers']"
      ]
     },
     "execution_count": 4,
     "metadata": {},
     "output_type": "execute_result"
    }
   ],
   "source": [
    "gitcuts = CutUtils('/home/calebf/notebooks/repositories/PD2_DM_Search_Cuts/', 'run44_0909_reprocess', lgcsync=False)\n",
    "gitcuts.listcuts()"
   ]
  },
  {
   "cell_type": "code",
   "execution_count": 5,
   "metadata": {},
   "outputs": [
    {
     "name": "stdout",
     "output_type": "stream",
     "text": [
      "The following cuts will be loaded into the namespace of cuts.py: ['ctrigger', 'crandoms_ir', 'crandoms_br', 'cevent', 'cchi2_lowfreq', 'cbase_pre', 'cgoodevents', 'cgoodrandoms', 'cpileup', 'cgoodtriggers'] \n",
      " make sure to run exec()             on the return of this function to import them into the local namespace\n"
     ]
    }
   ],
   "source": [
    "exec(gitcuts.updatecuts())"
   ]
  },
  {
   "cell_type": "code",
   "execution_count": 6,
   "metadata": {},
   "outputs": [],
   "source": [
    "p_rand = vae.processing.partition_data(rq[crandoms_br|crandoms_ir].eventseriesnumber.values, \n",
    "                       savename=PARTITION_PATH+'randoms', \n",
    "                       lgcsave=True)"
   ]
  },
  {
   "cell_type": "code",
   "execution_count": 8,
   "metadata": {},
   "outputs": [],
   "source": [
    "p_trig = vae.processing.partition_data(rq[ctrigger].eventseriesnumber.values, \n",
    "                       savename=PARTITION_PATH+'triggers', \n",
    "                       lgcsave=True)\n",
    "\n",
    "p_goodev = vae.processing.partition_data(rq[cgoodevents].eventseriesnumber.values, \n",
    "                       savename=PARTITION_PATH+'good_events', \n",
    "                       lgcsave=True)\n",
    "\n",
    "p_goodtrig = vae.processing.partition_data(rq[cgoodtriggers].eventseriesnumber.values, \n",
    "                       savename=PARTITION_PATH+'good_triggers', \n",
    "                       lgcsave=True)\n",
    "\n",
    "p_goodrand= vae.processing.partition_data(rq[cgoodrandoms].eventseriesnumber.values, \n",
    "                       savename=PARTITION_PATH+'good_randoms', \n",
    "                       lgcsave=True)"
   ]
  },
  {
   "cell_type": "code",
   "execution_count": 9,
   "metadata": {},
   "outputs": [],
   "source": [
    "p = vae.io.load_partition(PARTITION_PATH, 'good_randoms')"
   ]
  },
  {
   "cell_type": "code",
   "execution_count": 10,
   "metadata": {},
   "outputs": [
    {
     "data": {
      "text/plain": [
       "{'validation': array([918090910474380074,  91809092211130193, 918090910472010308, ...,\n",
       "         91809091047840058,  91809091047920354, 918090910473620085]),\n",
       " 'test': array([918090922116050270, 918090910471520048, 918090910473030269, ...,\n",
       "        918090922112060302,   9180909221130152,   9180909221160180]),\n",
       " 'train': array([918090910475290209, 918090922114880166, 918090910476460157, ...,\n",
       "        918090922112990307,   9180909104760116, 918090910473920269])}"
      ]
     },
     "execution_count": 10,
     "metadata": {},
     "output_type": "execute_result"
    }
   ],
   "source": [
    "p"
   ]
  },
  {
   "cell_type": "code",
   "execution_count": null,
   "metadata": {},
   "outputs": [],
   "source": []
  }
 ],
 "metadata": {
  "kernelspec": {
   "display_name": "Python 3",
   "language": "python",
   "name": "python3"
  },
  "language_info": {
   "codemirror_mode": {
    "name": "ipython",
    "version": 3
   },
   "file_extension": ".py",
   "mimetype": "text/x-python",
   "name": "python",
   "nbconvert_exporter": "python",
   "pygments_lexer": "ipython3",
   "version": "3.6.3"
  }
 },
 "nbformat": 4,
 "nbformat_minor": 2
}
