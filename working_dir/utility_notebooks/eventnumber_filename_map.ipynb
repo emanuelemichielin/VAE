{
 "cells": [
  {
   "cell_type": "markdown",
   "metadata": {},
   "source": [
    "### Notebook for Saving the mapping from event number to filename"
   ]
  },
  {
   "cell_type": "code",
   "execution_count": 1,
   "metadata": {},
   "outputs": [],
   "source": [
    "import qetpy as qp\n",
    "import rqpy as rp\n",
    "import numpy as np\n",
    "import pandas as pd\n",
    "import vae\n",
    "from glob import glob\n",
    "import pickle as pkl\n",
    "import matplotlib.pyplot as plt\n",
    "from matplotlib import rcParams"
   ]
  },
  {
   "cell_type": "code",
   "execution_count": 2,
   "metadata": {},
   "outputs": [],
   "source": [
    "base_path = '/gpfs/slac/staas/fs1/supercdms/tf/slac/Run44/Run44_v2/'\n",
    "rq_path = '/gpfs/slac/staas/fs1/supercdms/tf/slac/Run44/Run44_processed_DF.pkl'\n",
    "\n",
    "\n",
    "traces_path = sorted(glob(base_path+'traces/*'))\n",
    "meta_path = sorted(glob(base_path+'metadata/*'))\n",
    "labels_path = sorted(glob(base_path+'labels/*'))\n"
   ]
  },
  {
   "cell_type": "code",
   "execution_count": null,
   "metadata": {},
   "outputs": [],
   "source": [
    "ev_list = []\n",
    "path_names = []\n",
    "for path in traces_path:\n",
    "    _, evnums = vae.load_preprocessed_traces(path)\n",
    "    ev_list.extend(list(evnums))\n",
    "    path_names.extend([path]*len(evnums))"
   ]
  },
  {
   "cell_type": "code",
   "execution_count": 3,
   "metadata": {},
   "outputs": [],
   "source": [
    "ev_mapping = pd.DataFrame.from_dict({'eventnumber' : ev_list, 'filepath' : path_names})\n",
    "ev_mapping.to_hdf('/gpfs/slac/staas/fs1/supercdms/tf/slac/Run44/file_mapping.h5','map')"
   ]
  }
 ],
 "metadata": {
  "kernelspec": {
   "display_name": "Python 3",
   "language": "python",
   "name": "python3"
  },
  "language_info": {
   "codemirror_mode": {
    "name": "ipython",
    "version": 3
   },
   "file_extension": ".py",
   "mimetype": "text/x-python",
   "name": "python",
   "nbconvert_exporter": "python",
   "pygments_lexer": "ipython3",
   "version": "3.6.3"
  }
 },
 "nbformat": 4,
 "nbformat_minor": 2
}
